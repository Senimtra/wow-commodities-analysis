{
 "cells": [
  {
   "attachments": {},
   "cell_type": "markdown",
   "metadata": {},
   "source": [
    "# Clean Commodity Data"
   ]
  },
  {
   "cell_type": "code",
   "execution_count": null,
   "metadata": {},
   "outputs": [],
   "source": [
    "# Imports\n",
    "\n",
    "import pandas as pd\n",
    "import numpy as np"
   ]
  },
  {
   "cell_type": "code",
   "execution_count": null,
   "metadata": {},
   "outputs": [],
   "source": [
    "# Read commodities from file\n",
    "\n",
    "commodities_df = pd.read_csv('../data/commodities/d16_h02_commodities.csv', index_col = 0)\n",
    "\n",
    "print(commodities_df.shape)\n",
    "\n",
    "commodities_df.head()"
   ]
  },
  {
   "cell_type": "code",
   "execution_count": null,
   "metadata": {},
   "outputs": [],
   "source": [
    "# Drop columns 'auction_id' + 'time_left'\n",
    "\n",
    "commodities_df.drop(['auction_id', 'time_left'], axis = 1, inplace = True)\n",
    "\n",
    "commodities_df.head()"
   ]
  },
  {
   "cell_type": "code",
   "execution_count": null,
   "metadata": {},
   "outputs": [],
   "source": [
    "# Check all rows of a specific item\n",
    "\n",
    "commodities_df[commodities_df['item_id'] == 173033]"
   ]
  },
  {
   "cell_type": "code",
   "execution_count": null,
   "metadata": {},
   "outputs": [],
   "source": [
    "# As there is no way to get information about the sold commodity auctions I will use the weighted (quantity) median to pick a reasonable unit price.\n",
    "# This will be less sensitive to outliers and less likely to be affected by sudden spikes or dips in the price of a particular item.\n",
    "\n",
    "def weighted_median(item_df):\n",
    "   sorted_df = item_df.sort_values('unit_price') # sort values in ascending order by unit_price\n",
    "   cum_weights = sorted_df['quantity'].cumsum() # calculate the cumulative sum of quantities\n",
    "   total_weight = cum_weights.iloc[-1] # get the total weight\n",
    "   if total_weight % 2 == 1: # if the total weight is odd\n",
    "      median_index = cum_weights.searchsorted(total_weight / 2) # find the index of the median\n",
    "      return sorted_df.iloc[median_index]['unit_price'] # return the corresponding unit_price value\n",
    "   else: # if the total weight is even\n",
    "      median_index = cum_weights.searchsorted(total_weight / 2, side = 'right') # find the index of the right median\n",
    "      median_values = sorted_df.iloc[median_index - 1: median_index]['unit_price'] # get the two median values\n",
    "      # If the mean of the two median values is NaN, return the median unit price (unweighted)\n",
    "      return item_df['unit_price'].median() if pd.isna(median_values.mean()) else median_values.mean()\n",
    "     \n",
    "price_weighted_median = commodities_df.groupby('item_id').apply(lambda x: weighted_median(x)).reset_index(name = 'weighted')\n",
    "\n",
    "price_weighted_median['weighted'] = price_weighted_median['weighted'].astype(int)\n",
    "\n",
    "price_weighted_median"
   ]
  },
  {
   "cell_type": "code",
   "execution_count": null,
   "metadata": {},
   "outputs": [],
   "source": [
    "# Group by item_id and sum quantity\n",
    "\n",
    "commodities_df = commodities_df.groupby('item_id').agg({'unit_price': 'min', 'timestamp': 'first', 'quantity': 'sum'})\n",
    "\n",
    "commodities_df"
   ]
  },
  {
   "cell_type": "code",
   "execution_count": null,
   "metadata": {},
   "outputs": [],
   "source": [
    "# Merge commodities + weighted median price\n",
    "\n",
    "commodities_df = pd.merge(commodities_df, price_weighted_median, left_on = 'item_id', right_on = 'item_id')\n",
    "\n",
    "commodities_df = commodities_df[['item_id', 'quantity', 'unit_price', 'weighted', 'timestamp']]\n",
    "\n",
    "commodities_df"
   ]
  },
  {
   "cell_type": "code",
   "execution_count": null,
   "metadata": {},
   "outputs": [],
   "source": [
    "# Check for remaining NaN\n",
    "\n",
    "commodities_df.isna().sum()"
   ]
  }
 ],
 "metadata": {
  "kernelspec": {
   "display_name": "Python 3",
   "language": "python",
   "name": "python3"
  },
  "language_info": {
   "codemirror_mode": {
    "name": "ipython",
    "version": 3
   },
   "file_extension": ".py",
   "mimetype": "text/x-python",
   "name": "python",
   "nbconvert_exporter": "python",
   "pygments_lexer": "ipython3",
   "version": "3.11.1"
  },
  "orig_nbformat": 4,
  "vscode": {
   "interpreter": {
    "hash": "5238573367df39f7286bb46f9ff5f08f63a01a80960060ce41e3c79b190280fa"
   }
  }
 },
 "nbformat": 4,
 "nbformat_minor": 2
}
