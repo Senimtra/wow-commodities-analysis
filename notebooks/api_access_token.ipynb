{
 "cells": [
  {
   "attachments": {},
   "cell_type": "markdown",
   "metadata": {},
   "source": [
    "# Api Access Token"
   ]
  },
  {
   "cell_type": "code",
   "execution_count": 11,
   "metadata": {},
   "outputs": [],
   "source": [
    "# Imports\n",
    "\n",
    "import requests\n",
    "import re"
   ]
  },
  {
   "cell_type": "code",
   "execution_count": 12,
   "metadata": {},
   "outputs": [],
   "source": [
    "# Read credentials\n",
    "\n",
    "with open('../api_credentials.txt', 'r') as file:\n",
    "   text = file.read()\n",
    "    \n",
    "credentials = re.findall('=(.*)', text)"
   ]
  },
  {
   "cell_type": "code",
   "execution_count": 13,
   "metadata": {},
   "outputs": [],
   "source": [
    "# Assign credentials\n",
    "\n",
    "client_ID = credentials[0]\n",
    "client_secret = credentials[1]"
   ]
  },
  {
   "cell_type": "code",
   "execution_count": 14,
   "metadata": {},
   "outputs": [],
   "source": [
    "# Create access token\n",
    "\n",
    "def create_access_token(client_ID, client_secret, region = 'eu'):\n",
    "   data = {'grant_type': 'client_credentials'}\n",
    "   response = requests.post('https://%s.battle.net/oauth/token' % region, data = data, auth = (client_ID, client_secret))\n",
    "   return response.json()\n",
    "\n",
    "response = create_access_token(client_ID, client_secret)\n",
    "\n",
    "token = response['access_token']"
   ]
  },
  {
   "cell_type": "code",
   "execution_count": 15,
   "metadata": {},
   "outputs": [],
   "source": [
    "# Write access token to file\n",
    "\n",
    "with open('../api_access_token.txt', 'w') as file:\n",
    "   file.write(token)"
   ]
  }
 ],
 "metadata": {
  "kernelspec": {
   "display_name": "Python 3",
   "language": "python",
   "name": "python3"
  },
  "language_info": {
   "codemirror_mode": {
    "name": "ipython",
    "version": 3
   },
   "file_extension": ".py",
   "mimetype": "text/x-python",
   "name": "python",
   "nbconvert_exporter": "python",
   "pygments_lexer": "ipython3",
   "version": "3.11.1"
  },
  "orig_nbformat": 4,
  "vscode": {
   "interpreter": {
    "hash": "5238573367df39f7286bb46f9ff5f08f63a01a80960060ce41e3c79b190280fa"
   }
  }
 },
 "nbformat": 4,
 "nbformat_minor": 2
}
