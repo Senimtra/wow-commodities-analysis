{
 "cells": [
  {
   "attachments": {},
   "cell_type": "markdown",
   "metadata": {},
   "source": [
    "# Api Get Items Media"
   ]
  },
  {
   "cell_type": "code",
   "execution_count": null,
   "metadata": {},
   "outputs": [],
   "source": [
    "# Imports\n",
    "\n",
    "import pandas as pd\n",
    "import csv\n",
    "import requests\n",
    "import re\n",
    "import json"
   ]
  },
  {
   "cell_type": "code",
   "execution_count": null,
   "metadata": {},
   "outputs": [],
   "source": [
    "# Pandas options\n",
    "\n",
    "pd.set_option('display.max_colwidth', None)"
   ]
  },
  {
   "cell_type": "code",
   "execution_count": null,
   "metadata": {},
   "outputs": [],
   "source": [
    "# Read credentials\n",
    "\n",
    "with open('../api_credentials.txt', 'r') as file:\n",
    "   text = file.read()\n",
    "    \n",
    "credentials = re.findall('=(.*)', text)"
   ]
  },
  {
   "cell_type": "code",
   "execution_count": null,
   "metadata": {},
   "outputs": [],
   "source": [
    "# Assign credentials\n",
    "\n",
    "client_ID = credentials[0]\n",
    "client_secret = credentials[1]"
   ]
  },
  {
   "cell_type": "code",
   "execution_count": null,
   "metadata": {},
   "outputs": [],
   "source": [
    "# Read unique item ids\n",
    "\n",
    "with open('../data/item_ids.csv', mode = 'r') as file:\n",
    "\n",
    "   reader = csv.reader(file)\n",
    "   item_ids = [int(row[0]) for row in reader]"
   ]
  },
  {
   "cell_type": "code",
   "execution_count": null,
   "metadata": {},
   "outputs": [],
   "source": [
    "# Check amount ot items\n",
    "\n",
    "len(item_ids)"
   ]
  },
  {
   "cell_type": "code",
   "execution_count": null,
   "metadata": {},
   "outputs": [],
   "source": [
    "# Get items media from Api\n",
    "\n",
    "def get_item(ids):\n",
    "   items = []\n",
    "   failed_requests = []\n",
    "   count = 0\n",
    "\n",
    "   # Recreate access token due to Api restrictions\n",
    "   if count % 1000 == 0:\n",
    "      def create_access_token(client_ID, client_secret, region = 'eu'):\n",
    "         data = {'grant_type': 'client_credentials'}\n",
    "         response = requests.post('https://%s.battle.net/oauth/token' % region, data = data, auth = (client_ID, client_secret))\n",
    "         return response.json()\n",
    "\n",
    "      response = create_access_token(client_ID, client_secret)\n",
    "      token = response['access_token']\n",
    "   \n",
    "   # Loop Api calls through item_id list\n",
    "   for item_id in ids:\n",
    "      try:\n",
    "         # Api call\n",
    "         search = f'https://eu.api.blizzard.com/data/wow/media/item/{item_id}?namespace=static-eu&locale=en_GB&access_token={token}'\n",
    "         response = requests.get(search)\n",
    "         item_body = response.json()\n",
    "         item_object = {}\n",
    "         # Handle 404 items\n",
    "         if 'code' in item_body.keys():\n",
    "            if item_body['code'] == 404:\n",
    "               items.append({'item_id': item_id, 'media': 'UNKNOWN', 'link': 'UNKNOWN'})\n",
    "         else:\n",
    "            # Transform item objects\n",
    "            item_object['item_id'] = item_id\n",
    "            item_object['media'] = item_body['assets'][0]['key']\n",
    "            item_object['link'] = item_body['assets'][0]['value']\n",
    "            # Build list of items\n",
    "            items.append(item_object)\n",
    "\n",
    "         # Check progress\n",
    "         if count % 1000 == 0:   \n",
    "            print('Line:', count, 'Item ID:', item_id)\n",
    "         count += 1\n",
    "\n",
    "      # Handle errors\n",
    "      except json.decoder.JSONDecodeError:\n",
    "         print('Failed to retrieve item ID:', item_id)\n",
    "         failed_requests.append(item_id)\n",
    "         continue\n",
    "\n",
    "   if len(failed_requests) > 0:\n",
    "      print('The following item IDs could not be retrieved:', failed_requests)\n",
    "\n",
    "   return items\n",
    "\n",
    "items = get_item(item_ids)    "
   ]
  },
  {
   "cell_type": "code",
   "execution_count": null,
   "metadata": {},
   "outputs": [],
   "source": [
    "# Check dataframe output\n",
    "\n",
    "items_df = pd.DataFrame(items)\n",
    "\n",
    "items_df.head()"
   ]
  },
  {
   "cell_type": "code",
   "execution_count": null,
   "metadata": {},
   "outputs": [],
   "source": [
    "# Check for NaNs\n",
    "\n",
    "items_df.isna().sum()"
   ]
  },
  {
   "cell_type": "code",
   "execution_count": null,
   "metadata": {},
   "outputs": [],
   "source": [
    "# Check for media types\n",
    "\n",
    "items_df['media'].value_counts()"
   ]
  },
  {
   "cell_type": "code",
   "execution_count": null,
   "metadata": {},
   "outputs": [],
   "source": [
    "# Check 404\n",
    "\n",
    "items_df[items_df['media'] == 'UNKNOWN']"
   ]
  },
  {
   "cell_type": "code",
   "execution_count": null,
   "metadata": {},
   "outputs": [],
   "source": [
    "# Count 404\n",
    "\n",
    "items_df[items_df['media'] == 'UNKNOWN'].shape[0]"
   ]
  },
  {
   "cell_type": "code",
   "execution_count": null,
   "metadata": {},
   "outputs": [],
   "source": [
    "# Save to file\n",
    "\n",
    "items_df.to_csv('../data/items_media_new.csv', index = False)"
   ]
  }
 ],
 "metadata": {
  "kernelspec": {
   "display_name": "Python 3",
   "language": "python",
   "name": "python3"
  },
  "language_info": {
   "codemirror_mode": {
    "name": "ipython",
    "version": 3
   },
   "file_extension": ".py",
   "mimetype": "text/x-python",
   "name": "python",
   "nbconvert_exporter": "python",
   "pygments_lexer": "ipython3",
   "version": "3.11.2"
  },
  "orig_nbformat": 4,
  "vscode": {
   "interpreter": {
    "hash": "5238573367df39f7286bb46f9ff5f08f63a01a80960060ce41e3c79b190280fa"
   }
  }
 },
 "nbformat": 4,
 "nbformat_minor": 2
}
