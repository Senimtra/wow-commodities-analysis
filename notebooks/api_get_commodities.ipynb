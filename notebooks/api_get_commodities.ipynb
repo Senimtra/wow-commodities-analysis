{
 "cells": [
  {
   "attachments": {},
   "cell_type": "markdown",
   "metadata": {},
   "source": [
    "# Api Get Commodities"
   ]
  },
  {
   "cell_type": "code",
   "execution_count": null,
   "metadata": {},
   "outputs": [],
   "source": [
    "# Imports\n",
    "\n",
    "import pandas as pd\n",
    "import requests\n",
    "import re\n",
    "\n",
    "from datetime import datetime"
   ]
  },
  {
   "cell_type": "code",
   "execution_count": null,
   "metadata": {},
   "outputs": [],
   "source": [
    "# Read access token\n",
    "\n",
    "with open('../api_access_token.txt', 'r') as file:\n",
    "   access_token = file.read()"
   ]
  },
  {
   "cell_type": "code",
   "execution_count": null,
   "metadata": {},
   "outputs": [],
   "source": [
    "# Get commodity auctions data\n",
    "\n",
    "def get_commodities(access_token):\n",
    "   search = f'https://eu.api.blizzard.com/data/wow/auctions/commodities?namespace=dynamic-eu&locale=en_GB&access_token={access_token}'\n",
    "   response = requests.get(search)\n",
    "   return response.json()['auctions']\n",
    "\n",
    "commodities_data = get_commodities(access_token)\n",
    "\n",
    "commodities_df = pd.DataFrame(commodities_data)\n",
    "\n",
    "commodities_df.head()"
   ]
  },
  {
   "cell_type": "code",
   "execution_count": null,
   "metadata": {},
   "outputs": [],
   "source": [
    "# Add timestamp\n",
    "\n",
    "now = datetime.now()\n",
    "\n",
    "date_str = now.strftime('%Y-%m-%d %H:%M:%S')\n",
    "\n",
    "commodities_df['timestamp'] = date_str\n",
    "\n",
    "commodities_df['timestamp'] = pd.to_datetime(commodities_df['timestamp'])\n",
    "\n",
    "commodities_df.head()"
   ]
  },
  {
   "cell_type": "code",
   "execution_count": null,
   "metadata": {},
   "outputs": [],
   "source": [
    "# Extract item ids\n",
    "\n",
    "commodities_df['item'] = commodities_df['item'].apply(lambda x: x['id'])\n",
    "\n",
    "commodities_df.head()"
   ]
  },
  {
   "cell_type": "code",
   "execution_count": null,
   "metadata": {},
   "outputs": [],
   "source": [
    "# Rename columns\n",
    "\n",
    "commodities_df.rename(columns = {'id': 'auction_id', 'item': 'item_id'}, inplace = True)\n",
    "\n",
    "commodities_df.head()"
   ]
  },
  {
   "cell_type": "code",
   "execution_count": null,
   "metadata": {},
   "outputs": [],
   "source": [
    "# Save commodities data to file\n",
    "\n",
    "def stamp_string(timestamp):\n",
    "   day = re.findall('-(\\d.) ', str(timestamp))[0]\n",
    "   hour = re.findall(' (\\d.):', str(timestamp))[0]\n",
    "   return 'd' + day + '_h' + hour\n",
    "   \n",
    "file_stamp = stamp_string(commodities_df.iloc[:1, 5])\n",
    "\n",
    "commodities_df.to_csv(f'../data/commodities/{file_stamp}_commodities.csv')"
   ]
  }
 ],
 "metadata": {
  "kernelspec": {
   "display_name": "Python 3",
   "language": "python",
   "name": "python3"
  },
  "language_info": {
   "codemirror_mode": {
    "name": "ipython",
    "version": 3
   },
   "file_extension": ".py",
   "mimetype": "text/x-python",
   "name": "python",
   "nbconvert_exporter": "python",
   "pygments_lexer": "ipython3",
   "version": "3.11.1"
  },
  "orig_nbformat": 4,
  "vscode": {
   "interpreter": {
    "hash": "5238573367df39f7286bb46f9ff5f08f63a01a80960060ce41e3c79b190280fa"
   }
  }
 },
 "nbformat": 4,
 "nbformat_minor": 2
}
