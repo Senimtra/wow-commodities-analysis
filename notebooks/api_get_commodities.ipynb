{
 "cells": [
  {
   "attachments": {},
   "cell_type": "markdown",
   "metadata": {},
   "source": [
    "# Api Get Commodities\n"
   ]
  },
  {
   "cell_type": "code",
   "execution_count": null,
   "metadata": {},
   "outputs": [],
   "source": [
    "# Imports\n",
    "import re\n",
    "import requests\n",
    "import pandas as pd\n",
    "import numpy as np\n",
    "import matplotlib.pyplot as plt\n",
    "import seaborn as sns\n",
    "import datetime"
   ]
  },
  {
   "cell_type": "code",
   "execution_count": null,
   "metadata": {},
   "outputs": [],
   "source": [
    "# Read credentials\n",
    "with open('../api_credentials.txt', 'r') as file:\n",
    "   text = file.read()\n",
    "\n",
    "credentials = re.findall('=(.*)', text)"
   ]
  },
  {
   "cell_type": "code",
   "execution_count": null,
   "metadata": {},
   "outputs": [],
   "source": [
    "# Assign credentials\n",
    "client_ID = credentials[0]\n",
    "client_secret = credentials[1]"
   ]
  },
  {
   "cell_type": "code",
   "execution_count": null,
   "metadata": {},
   "outputs": [],
   "source": [
    "# Create access token\n",
    "def create_access_token(client_ID, client_secret, region = 'eu'):\n",
    "   data = {'grant_type': 'client_credentials'}\n",
    "   response = requests.post('https://%s.battle.net/oauth/token' % region, data = data, auth = (client_ID, client_secret))\n",
    "   return response.json()\n",
    "\n",
    "response = create_access_token(client_ID, client_secret)\n",
    "access_token = response['access_token']"
   ]
  },
  {
   "cell_type": "code",
   "execution_count": null,
   "metadata": {},
   "outputs": [],
   "source": [
    "# Get commodity auctions data\n",
    "def get_commodities(access_token):\n",
    "   search = f'https://eu.api.blizzard.com/data/wow/auctions/commodities?namespace=dynamic-eu&locale=en_GB&access_token={access_token}'\n",
    "   response = requests.get(search)\n",
    "   return response.json()['auctions']\n",
    "\n",
    "commodities_data = get_commodities(access_token)\n",
    "commodities_df = pd.DataFrame(commodities_data)"
   ]
  },
  {
   "cell_type": "code",
   "execution_count": null,
   "metadata": {},
   "outputs": [],
   "source": [
    "# Extract item ids\n",
    "commodities_df['item'] = commodities_df['item'].apply(lambda x: x['id'])"
   ]
  },
  {
   "cell_type": "code",
   "execution_count": null,
   "metadata": {},
   "outputs": [],
   "source": [
    "# Rename columns\n",
    "commodities_df.rename(\n",
    "   columns = {'id': 'auction_id', 'item': 'item_id'}, inplace = True)"
   ]
  },
  {
   "cell_type": "code",
   "execution_count": null,
   "metadata": {},
   "outputs": [],
   "source": [
    "# Tansform prices into x.xx of golds\n",
    "commodities_df['unit_price'] = commodities_df['unit_price'] / 10000"
   ]
  },
  {
   "cell_type": "code",
   "execution_count": null,
   "metadata": {},
   "outputs": [],
   "source": [
    "# Severite Ore statistical summary\n",
    "severite_ore = commodities_df[commodities_df['item_id'] == 190396]\n",
    "\n",
    "severite_ore.describe()"
   ]
  },
  {
   "cell_type": "code",
   "execution_count": null,
   "metadata": {},
   "outputs": [],
   "source": [
    "# Severite Ore remove outliers\n",
    "Q1 = np.percentile(severite_ore['unit_price'], 25)\n",
    "Q3 = np.percentile(severite_ore['unit_price'], 75)\n",
    "\n",
    "IQR = Q3 - Q1\n",
    "\n",
    "lower_bound = Q1 - 1.5 * IQR\n",
    "upper_bound = Q3 + 1.5 * IQR\n",
    "\n",
    "severite_ore_outliers_removed = severite_ore[(severite_ore['unit_price'] >= lower_bound) & (severite_ore['unit_price'] <= upper_bound)]"
   ]
  },
  {
   "cell_type": "code",
   "execution_count": null,
   "metadata": {},
   "outputs": [],
   "source": [
    "# Severite Ore price distribution\n",
    "sns.set_style('darkgrid')\n",
    "sns.histplot(data = severite_ore_outliers_removed, x = 'unit_price', bins = 20, kde = True, color = 'purple')\n",
    "\n",
    "plt.xlabel('Price per Ore')\n",
    "plt.ylabel('Number of Auctions')\n",
    "plt.title('Serevite Ore Price Distribution')\n",
    "\n",
    "plt.show()"
   ]
  },
  {
   "cell_type": "code",
   "execution_count": null,
   "metadata": {},
   "outputs": [],
   "source": [
    "# Remove outliers from all items\n",
    "def remove_outliers(df):\n",
    "   df_clean = pd.DataFrame()\n",
    "   for item_id in df['item_id'].unique():\n",
    "      df_item = df[df['item_id'] == item_id]\n",
    "      Q1 = df_item['unit_price'].quantile(0.25)\n",
    "      Q3 = df_item['unit_price'].quantile(0.75)\n",
    "      IQR = Q3 - Q1\n",
    "      df_clean_item = df_item[(df_item['unit_price'] >= Q1 - 1.5 * IQR) & (df_item['unit_price'] <= Q3 + 1.5 * IQR)]\n",
    "      df_clean = pd.concat([df_clean, df_clean_item])\n",
    "   return df_clean\n",
    "\n",
    "commodities_wo_outliers = remove_outliers(commodities_df)"
   ]
  },
  {
   "cell_type": "code",
   "execution_count": null,
   "metadata": {},
   "outputs": [],
   "source": [
    "# Group items by price and count auctions + quantities\n",
    "commodities_counted = commodities_wo_outliers.groupby(['item_id', 'unit_price']).agg(\n",
    "   auction_count = ('quantity', 'count'), total_quantity = ('quantity', 'sum')).reset_index()"
   ]
  },
  {
   "cell_type": "code",
   "execution_count": null,
   "metadata": {},
   "outputs": [],
   "source": [
    "# Calculate the weighted average 'unit_price' (weights: 'auction_count' + 'total_quantity')\n",
    "def weighted_average(x):\n",
    "   return (x['unit_price'] * x['auction_count'] * x['total_quantity']).sum() / (x['auction_count'] * x['total_quantity']).sum()\n",
    "\n",
    "commodities_weighted = commodities_counted.groupby('item_id').apply(weighted_average)"
   ]
  },
  {
   "cell_type": "code",
   "execution_count": null,
   "metadata": {},
   "outputs": [],
   "source": [
    "# Group by 'item_id' and merge weigthed average prices\n",
    "commodities_final = commodities_counted.groupby('item_id').agg({'unit_price': np.mean, 'auction_count': np.sum, 'total_quantity': np.sum}).reset_index()\n",
    "commodities_final = commodities_final.merge(commodities_weighted.rename('weighted'), on = 'item_id')\n",
    "commodities_final = commodities_final[['item_id', 'auction_count', 'total_quantity', 'unit_price', 'weighted']]"
   ]
  },
  {
   "cell_type": "code",
   "execution_count": null,
   "metadata": {},
   "outputs": [],
   "source": [
    "# Add timestamp\n",
    "now = datetime.datetime.now()\n",
    "date_str = now.strftime('%Y-%m-%d %H:%M:%S')\n",
    "commodities_final['timestamp'] = pd.to_datetime(date_str)"
   ]
  },
  {
   "cell_type": "code",
   "execution_count": null,
   "metadata": {},
   "outputs": [],
   "source": [
    "commodities_final"
   ]
  }
 ],
 "metadata": {
  "kernelspec": {
   "display_name": "Python 3",
   "language": "python",
   "name": "python3"
  },
  "language_info": {
   "codemirror_mode": {
    "name": "ipython",
    "version": 3
   },
   "file_extension": ".py",
   "mimetype": "text/x-python",
   "name": "python",
   "nbconvert_exporter": "python",
   "pygments_lexer": "ipython3",
   "version": "3.11.2"
  },
  "orig_nbformat": 4
 },
 "nbformat": 4,
 "nbformat_minor": 2
}
