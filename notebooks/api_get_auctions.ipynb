{
 "cells": [
  {
   "attachments": {},
   "cell_type": "markdown",
   "metadata": {},
   "source": [
    "# Api Get Auctions (EU-Ravencrest)"
   ]
  },
  {
   "cell_type": "code",
   "execution_count": null,
   "metadata": {},
   "outputs": [],
   "source": [
    "# Imports\n",
    "\n",
    "import pandas as pd\n",
    "import requests\n",
    "import re\n",
    "\n",
    "from datetime import datetime"
   ]
  },
  {
   "cell_type": "code",
   "execution_count": null,
   "metadata": {},
   "outputs": [],
   "source": [
    "# Read access token\n",
    "\n",
    "with open('../api_access_token.txt', 'r') as file:\n",
    "   access_token = file.read()"
   ]
  },
  {
   "cell_type": "code",
   "execution_count": null,
   "metadata": {},
   "outputs": [],
   "source": [
    "# Get EU-Ravencrest auctions data\n",
    "\n",
    "def get_ravencrest(access_token):\n",
    "   search = f'https://eu.api.blizzard.com/data/wow/connected-realm/1329/auctions?namespace=dynamic-eu&locale=en_GB&access_token={access_token}'\n",
    "   response = requests.get(search)\n",
    "   return response.json()['auctions']\n",
    " \n",
    "ravencrest_data = get_ravencrest(access_token)\n",
    "\n",
    "ravencrest_df = pd.DataFrame(ravencrest_data)\n",
    "\n",
    "ravencrest_df.head()"
   ]
  },
  {
   "cell_type": "code",
   "execution_count": null,
   "metadata": {},
   "outputs": [],
   "source": [
    "# Add timestamp\n",
    "\n",
    "now = datetime.now()\n",
    "\n",
    "date_str = now.strftime('%Y-%m-%d %H:%M:%S')\n",
    "\n",
    "ravencrest_df['timestamp'] = date_str\n",
    "\n",
    "ravencrest_df['timestamp'] = pd.to_datetime(ravencrest_df['timestamp'])\n",
    "\n",
    "ravencrest_df.head()"
   ]
  },
  {
   "cell_type": "code",
   "execution_count": null,
   "metadata": {},
   "outputs": [],
   "source": [
    "# Extract item ids\n",
    "\n",
    "ravencrest_df['item'] = ravencrest_df['item'].apply(lambda x: x['id'])\n",
    "\n",
    "ravencrest_df.head()"
   ]
  },
  {
   "cell_type": "code",
   "execution_count": null,
   "metadata": {},
   "outputs": [],
   "source": [
    "# Rename columns\n",
    "\n",
    "ravencrest_df.rename(columns = {'id': 'auction_id', 'item': 'item_id'}, inplace = True)\n",
    "\n",
    "ravencrest_df.head()"
   ]
  },
  {
   "cell_type": "code",
   "execution_count": null,
   "metadata": {},
   "outputs": [],
   "source": [
    "# Save ravencrest data to file\n",
    "\n",
    "def stamp_string(timestamp):\n",
    "   day = re.findall('-(\\d.) ', str(timestamp))[0]\n",
    "   hour = re.findall(' (\\d.):', str(timestamp))[0]\n",
    "   return 'd' + day + '_h' + hour\n",
    "   \n",
    "file_stamp = stamp_string(ravencrest_df.iloc[:1, 6])\n",
    "\n",
    "ravencrest_df.to_csv(f'../data/auctions/{file_stamp}_auctions.csv', index = False, date_format = '%Y-%m-%d %H:%M:%S')"
   ]
  }
 ],
 "metadata": {
  "kernelspec": {
   "display_name": "Python 3",
   "language": "python",
   "name": "python3"
  },
  "language_info": {
   "codemirror_mode": {
    "name": "ipython",
    "version": 3
   },
   "file_extension": ".py",
   "mimetype": "text/x-python",
   "name": "python",
   "nbconvert_exporter": "python",
   "pygments_lexer": "ipython3",
   "version": "3.11.1"
  },
  "orig_nbformat": 4,
  "vscode": {
   "interpreter": {
    "hash": "5238573367df39f7286bb46f9ff5f08f63a01a80960060ce41e3c79b190280fa"
   }
  }
 },
 "nbformat": 4,
 "nbformat_minor": 2
}
