{
 "cells": [
  {
   "attachments": {},
   "cell_type": "markdown",
   "metadata": {},
   "source": [
    "# Clean Auctions Data"
   ]
  },
  {
   "cell_type": "code",
   "execution_count": null,
   "metadata": {},
   "outputs": [],
   "source": [
    "# Imports\n",
    "\n",
    "import pandas as pd\n",
    "import numpy as np"
   ]
  },
  {
   "cell_type": "code",
   "execution_count": null,
   "metadata": {},
   "outputs": [],
   "source": [
    "# Read auctions from file\n",
    "\n",
    "auctions_df = pd.read_csv('../data/auctions/d16_h15_auctions.csv', index_col = 0)\n",
    "\n",
    "print(auctions_df.shape)\n",
    "\n",
    "auctions_df.head()"
   ]
  },
  {
   "cell_type": "code",
   "execution_count": null,
   "metadata": {},
   "outputs": [],
   "source": [
    "# Remove items that do not have a buyout price\n",
    "\n",
    "auctions_df = auctions_df[~auctions_df['buyout'].isna()]\n",
    "\n",
    "auctions_df.shape"
   ]
  },
  {
   "cell_type": "code",
   "execution_count": null,
   "metadata": {},
   "outputs": [],
   "source": [
    "# Remove items that have a price higher than gold limit (9999999g)\n",
    "\n",
    "auctions_df = auctions_df[auctions_df['buyout'] < 1000000000]\n",
    "\n",
    "auctions_df.shape"
   ]
  },
  {
   "cell_type": "code",
   "execution_count": null,
   "metadata": {},
   "outputs": [],
   "source": [
    "auctions_df.head()"
   ]
  },
  {
   "cell_type": "code",
   "execution_count": null,
   "metadata": {},
   "outputs": [],
   "source": [
    "# Drop columns 'auction_id', 'time_left', 'bid'\n",
    "\n",
    "auctions_df.drop(['auction_id', 'time_left', 'bid'], axis = 1, inplace = True)\n",
    "\n",
    "auctions_df"
   ]
  },
  {
   "cell_type": "code",
   "execution_count": null,
   "metadata": {},
   "outputs": [],
   "source": [
    "# Check all rows of a specific item\n",
    "\n",
    "auctions_df[auctions_df['item_id'] == 31157]"
   ]
  },
  {
   "cell_type": "code",
   "execution_count": null,
   "metadata": {},
   "outputs": [],
   "source": [
    "# Use the cheapest price available since there is no way to get information about the sold auctions.\n",
    "# Group by item_id and sum quantity\n",
    "\n",
    "auctions_df = auctions_df.groupby('item_id').agg({'buyout': np.min, 'quantity': np.sum, 'timestamp': 'first'})\n",
    "\n",
    "auctions_df['buyout'] = auctions_df['buyout'].astype(int)\n",
    "\n",
    "auctions_df.rename(columns = {'buyout': 'unit_price'}, inplace = True)\n",
    "\n",
    "auctions_df.reset_index(inplace = True)\n",
    "\n",
    "auctions_df = auctions_df[['item_id', 'quantity', 'unit_price', 'timestamp']]\n",
    "\n",
    "auctions_df"
   ]
  },
  {
   "cell_type": "code",
   "execution_count": null,
   "metadata": {},
   "outputs": [],
   "source": [
    "# Check for remaining NaN\n",
    "\n",
    "auctions_df.isna().sum()"
   ]
  }
 ],
 "metadata": {
  "kernelspec": {
   "display_name": "Python 3",
   "language": "python",
   "name": "python3"
  },
  "language_info": {
   "codemirror_mode": {
    "name": "ipython",
    "version": 3
   },
   "file_extension": ".py",
   "mimetype": "text/x-python",
   "name": "python",
   "nbconvert_exporter": "python",
   "pygments_lexer": "ipython3",
   "version": "3.11.1"
  },
  "orig_nbformat": 4,
  "vscode": {
   "interpreter": {
    "hash": "5238573367df39f7286bb46f9ff5f08f63a01a80960060ce41e3c79b190280fa"
   }
  }
 },
 "nbformat": 4,
 "nbformat_minor": 2
}
